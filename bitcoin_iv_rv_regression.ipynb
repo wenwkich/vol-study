{
 "cells": [
  {
   "cell_type": "code",
   "execution_count": 1,
   "metadata": {},
   "outputs": [],
   "source": [
    "import matplotlib.pyplot as plt\n",
    "import pandas as pd\n",
    "import numpy as np\n",
    "from statsmodels.tsa.api import VAR\n",
    "from scipy.stats import pearsonr"
   ]
  },
  {
   "cell_type": "code",
   "execution_count": 2,
   "metadata": {},
   "outputs": [
    {
     "data": {
      "text/html": [
       "<div>\n",
       "<style scoped>\n",
       "    .dataframe tbody tr th:only-of-type {\n",
       "        vertical-align: middle;\n",
       "    }\n",
       "\n",
       "    .dataframe tbody tr th {\n",
       "        vertical-align: top;\n",
       "    }\n",
       "\n",
       "    .dataframe thead th {\n",
       "        text-align: right;\n",
       "    }\n",
       "</style>\n",
       "<table border=\"1\" class=\"dataframe\">\n",
       "  <thead>\n",
       "    <tr style=\"text-align: right;\">\n",
       "      <th></th>\n",
       "      <th>iv</th>\n",
       "      <th>time_to_expiry</th>\n",
       "      <th>rv</th>\n",
       "      <th>close</th>\n",
       "      <th>log_return</th>\n",
       "    </tr>\n",
       "    <tr>\n",
       "      <th>datetime</th>\n",
       "      <th></th>\n",
       "      <th></th>\n",
       "      <th></th>\n",
       "      <th></th>\n",
       "      <th></th>\n",
       "    </tr>\n",
       "  </thead>\n",
       "  <tbody>\n",
       "    <tr>\n",
       "      <th>2019-09-08</th>\n",
       "      <td>0.736635</td>\n",
       "      <td>0.298630</td>\n",
       "      <td>0.802524</td>\n",
       "      <td>10290.310194</td>\n",
       "      <td>NaN</td>\n",
       "    </tr>\n",
       "    <tr>\n",
       "      <th>2019-09-09</th>\n",
       "      <td>0.752649</td>\n",
       "      <td>0.295890</td>\n",
       "      <td>0.503743</td>\n",
       "      <td>10299.879771</td>\n",
       "      <td>0.000930</td>\n",
       "    </tr>\n",
       "    <tr>\n",
       "      <th>2019-09-10</th>\n",
       "      <td>0.741534</td>\n",
       "      <td>0.293151</td>\n",
       "      <td>0.477289</td>\n",
       "      <td>10224.414965</td>\n",
       "      <td>-0.007354</td>\n",
       "    </tr>\n",
       "    <tr>\n",
       "      <th>2019-09-11</th>\n",
       "      <td>0.741928</td>\n",
       "      <td>0.290411</td>\n",
       "      <td>0.470619</td>\n",
       "      <td>10071.423250</td>\n",
       "      <td>-0.015076</td>\n",
       "    </tr>\n",
       "    <tr>\n",
       "      <th>2019-09-12</th>\n",
       "      <td>0.729971</td>\n",
       "      <td>0.287671</td>\n",
       "      <td>0.357450</td>\n",
       "      <td>10216.206507</td>\n",
       "      <td>0.014273</td>\n",
       "    </tr>\n",
       "  </tbody>\n",
       "</table>\n",
       "</div>"
      ],
      "text/plain": [
       "                  iv  time_to_expiry        rv         close  log_return\n",
       "datetime                                                                \n",
       "2019-09-08  0.736635        0.298630  0.802524  10290.310194         NaN\n",
       "2019-09-09  0.752649        0.295890  0.503743  10299.879771    0.000930\n",
       "2019-09-10  0.741534        0.293151  0.477289  10224.414965   -0.007354\n",
       "2019-09-11  0.741928        0.290411  0.470619  10071.423250   -0.015076\n",
       "2019-09-12  0.729971        0.287671  0.357450  10216.206507    0.014273"
      ]
     },
     "execution_count": 2,
     "metadata": {},
     "output_type": "execute_result"
    }
   ],
   "source": [
    "df_iv_rv = pd.read_csv('./outs/bitcoin_iv_rv.csv', parse_dates=[0], index_col=0)\n",
    "df_iv_rv.head()"
   ]
  },
  {
   "cell_type": "code",
   "execution_count": 3,
   "metadata": {},
   "outputs": [],
   "source": [
    "df_iv_rv = df_iv_rv[1:]"
   ]
  },
  {
   "cell_type": "code",
   "execution_count": 4,
   "metadata": {},
   "outputs": [
    {
     "data": {
      "text/html": [
       "<div>\n",
       "<style scoped>\n",
       "    .dataframe tbody tr th:only-of-type {\n",
       "        vertical-align: middle;\n",
       "    }\n",
       "\n",
       "    .dataframe tbody tr th {\n",
       "        vertical-align: top;\n",
       "    }\n",
       "\n",
       "    .dataframe thead th {\n",
       "        text-align: right;\n",
       "    }\n",
       "</style>\n",
       "<table border=\"1\" class=\"dataframe\">\n",
       "  <thead>\n",
       "    <tr style=\"text-align: right;\">\n",
       "      <th></th>\n",
       "      <th>iv</th>\n",
       "      <th>rv</th>\n",
       "      <th>log_return</th>\n",
       "    </tr>\n",
       "    <tr>\n",
       "      <th>datetime</th>\n",
       "      <th></th>\n",
       "      <th></th>\n",
       "      <th></th>\n",
       "    </tr>\n",
       "  </thead>\n",
       "  <tbody>\n",
       "    <tr>\n",
       "      <th>2019-09-09</th>\n",
       "      <td>0.752649</td>\n",
       "      <td>0.503743</td>\n",
       "      <td>0.000930</td>\n",
       "    </tr>\n",
       "    <tr>\n",
       "      <th>2019-09-10</th>\n",
       "      <td>0.741534</td>\n",
       "      <td>0.477289</td>\n",
       "      <td>-0.007354</td>\n",
       "    </tr>\n",
       "    <tr>\n",
       "      <th>2019-09-11</th>\n",
       "      <td>0.741928</td>\n",
       "      <td>0.470619</td>\n",
       "      <td>-0.015076</td>\n",
       "    </tr>\n",
       "    <tr>\n",
       "      <th>2019-09-12</th>\n",
       "      <td>0.729971</td>\n",
       "      <td>0.357450</td>\n",
       "      <td>0.014273</td>\n",
       "    </tr>\n",
       "    <tr>\n",
       "      <th>2019-09-13</th>\n",
       "      <td>0.730858</td>\n",
       "      <td>0.345509</td>\n",
       "      <td>0.007908</td>\n",
       "    </tr>\n",
       "    <tr>\n",
       "      <th>...</th>\n",
       "      <td>...</td>\n",
       "      <td>...</td>\n",
       "      <td>...</td>\n",
       "    </tr>\n",
       "    <tr>\n",
       "      <th>2021-12-05</th>\n",
       "      <td>0.881180</td>\n",
       "      <td>0.794002</td>\n",
       "      <td>0.001960</td>\n",
       "    </tr>\n",
       "    <tr>\n",
       "      <th>2021-12-06</th>\n",
       "      <td>0.894464</td>\n",
       "      <td>0.851256</td>\n",
       "      <td>-0.005493</td>\n",
       "    </tr>\n",
       "    <tr>\n",
       "      <th>2021-12-07</th>\n",
       "      <td>0.865889</td>\n",
       "      <td>0.612578</td>\n",
       "      <td>0.043526</td>\n",
       "    </tr>\n",
       "    <tr>\n",
       "      <th>2021-12-08</th>\n",
       "      <td>0.873676</td>\n",
       "      <td>0.613360</td>\n",
       "      <td>-0.013577</td>\n",
       "    </tr>\n",
       "    <tr>\n",
       "      <th>2021-12-09</th>\n",
       "      <td>0.867760</td>\n",
       "      <td>0.622318</td>\n",
       "      <td>0.004604</td>\n",
       "    </tr>\n",
       "  </tbody>\n",
       "</table>\n",
       "<p>822 rows × 3 columns</p>\n",
       "</div>"
      ],
      "text/plain": [
       "                  iv        rv  log_return\n",
       "datetime                                  \n",
       "2019-09-09  0.752649  0.503743    0.000930\n",
       "2019-09-10  0.741534  0.477289   -0.007354\n",
       "2019-09-11  0.741928  0.470619   -0.015076\n",
       "2019-09-12  0.729971  0.357450    0.014273\n",
       "2019-09-13  0.730858  0.345509    0.007908\n",
       "...              ...       ...         ...\n",
       "2021-12-05  0.881180  0.794002    0.001960\n",
       "2021-12-06  0.894464  0.851256   -0.005493\n",
       "2021-12-07  0.865889  0.612578    0.043526\n",
       "2021-12-08  0.873676  0.613360   -0.013577\n",
       "2021-12-09  0.867760  0.622318    0.004604\n",
       "\n",
       "[822 rows x 3 columns]"
      ]
     },
     "execution_count": 4,
     "metadata": {},
     "output_type": "execute_result"
    }
   ],
   "source": [
    "df_iv_rv = df_iv_rv[['iv', 'rv', 'log_return']]\n",
    "df_iv_rv"
   ]
  },
  {
   "cell_type": "code",
   "execution_count": 5,
   "metadata": {},
   "outputs": [
    {
     "name": "stderr",
     "output_type": "stream",
     "text": [
      "/Users/wendychan/opt/anaconda3/lib/python3.9/site-packages/statsmodels/tsa/base/tsa_model.py:581: ValueWarning: A date index has been provided, but it has no associated frequency information and so will be ignored when e.g. forecasting.\n",
      "  warnings.warn('A date index has been provided, but it has no'\n"
     ]
    }
   ],
   "source": [
    "model = VAR(df_iv_rv)"
   ]
  },
  {
   "cell_type": "code",
   "execution_count": 6,
   "metadata": {},
   "outputs": [],
   "source": [
    "model_fit = model.fit(maxlags=1)"
   ]
  },
  {
   "cell_type": "code",
   "execution_count": 7,
   "metadata": {},
   "outputs": [
    {
     "data": {
      "text/plain": [
       "  Summary of Regression Results   \n",
       "==================================\n",
       "Model:                         VAR\n",
       "Method:                        OLS\n",
       "Date:           Sun, 12, Dec, 2021\n",
       "Time:                     21:40:00\n",
       "--------------------------------------------------------------------\n",
       "No. of Equations:         3.00000    BIC:                   -10.7234\n",
       "Nobs:                     821.000    HQIC:                  -10.7659\n",
       "Log likelihood:           947.382    FPE:                2.05577e-05\n",
       "AIC:                     -10.7923    Det(Omega_mle):     2.02602e-05\n",
       "--------------------------------------------------------------------\n",
       "Results for equation iv\n",
       "================================================================================\n",
       "                   coefficient       std. error           t-stat            prob\n",
       "--------------------------------------------------------------------------------\n",
       "const                 0.235596         0.025634            9.191           0.000\n",
       "L1.iv                 0.518574         0.036847           14.074           0.000\n",
       "L1.rv                 0.226393         0.020001           11.319           0.000\n",
       "L1.log_return        -0.175611         0.031630           -5.552           0.000\n",
       "================================================================================\n",
       "\n",
       "Results for equation rv\n",
       "================================================================================\n",
       "                   coefficient       std. error           t-stat            prob\n",
       "--------------------------------------------------------------------------------\n",
       "const                 0.041294         0.034484            1.197           0.231\n",
       "L1.iv                 0.152065         0.049568            3.068           0.002\n",
       "L1.rv                 0.755650         0.026906           28.085           0.000\n",
       "L1.log_return        -0.088506         0.042549           -2.080           0.038\n",
       "================================================================================\n",
       "\n",
       "Results for equation log_return\n",
       "================================================================================\n",
       "                   coefficient       std. error           t-stat            prob\n",
       "--------------------------------------------------------------------------------\n",
       "const                -0.042891         0.034668           -1.237           0.216\n",
       "L1.iv                -0.028462         0.049834           -0.571           0.568\n",
       "L1.rv                 0.134458         0.027050            4.971           0.000\n",
       "L1.log_return         0.215873         0.042777            5.046           0.000\n",
       "================================================================================\n",
       "\n",
       "Correlation matrix of residuals\n",
       "                    iv        rv  log_return\n",
       "iv            1.000000  0.252812    0.681294\n",
       "rv            0.252812  1.000000    0.383800\n",
       "log_return    0.681294  0.383800    1.000000\n",
       "\n"
      ]
     },
     "execution_count": 7,
     "metadata": {},
     "output_type": "execute_result"
    }
   ],
   "source": [
    "model_fit.summary()"
   ]
  }
 ],
 "metadata": {
  "interpreter": {
   "hash": "f67231671e2d8ee2151158dcfcb972f0c3d21f42df19512edb4626cb2871a1d5"
  },
  "kernelspec": {
   "display_name": "Python 3.9.7 64-bit ('base': conda)",
   "language": "python",
   "name": "python3"
  },
  "language_info": {
   "codemirror_mode": {
    "name": "ipython",
    "version": 3
   },
   "file_extension": ".py",
   "mimetype": "text/x-python",
   "name": "python",
   "nbconvert_exporter": "python",
   "pygments_lexer": "ipython3",
   "version": "3.9.7"
  },
  "orig_nbformat": 4
 },
 "nbformat": 4,
 "nbformat_minor": 2
}
